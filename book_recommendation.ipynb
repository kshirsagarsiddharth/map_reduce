{
 "cells": [
  {
   "cell_type": "code",
   "execution_count": 1,
   "metadata": {},
   "outputs": [],
   "source": [
    "import pandas as pd\n",
    "import numpy as np\n",
    "import matplotlib.pyplot as plt\n",
    "\n",
    "from pyspark.sql import SparkSession\n",
    "spark = SparkSession.builder.appName('rec').getOrCreate()"
   ]
  },
  {
   "cell_type": "code",
   "execution_count": 2,
   "metadata": {},
   "outputs": [],
   "source": [
    "books_rating_path = \"book_recommendation/book_recommendation/BX-Book-Ratings.csv\"\n",
    "books_path = \"book_recommendation/book_recommendation/BX-Books.csv\"\n",
    "books_user_path = \"book_recommendation/book_recommendation/BX-Users.csv\""
   ]
  },
  {
   "cell_type": "code",
   "execution_count": 3,
   "metadata": {},
   "outputs": [],
   "source": [
    "books = spark.read.format(\"csv\") \\\n",
    ".option(\"inferSchema\",\"true\") \\\n",
    ".option(\"header\",\"true\") \\\n",
    ".option(\"mode\",\"DROPMALFORMED\") \\\n",
    ".option(\"delimiter\", \";\") \\\n",
    ".load(books_path)\n",
    "\n",
    "users = spark.read.format(\"csv\") \\\n",
    ".option(\"inferSchema\",\"true\") \\\n",
    ".option(\"header\",\"true\") \\\n",
    ".option(\"mode\",\"DROPMALFORMED\") \\\n",
    ".option(\"delimiter\", \";\") \\\n",
    ".load(books_user_path)\n",
    "\n",
    "ratings = spark.read.format(\"csv\") \\\n",
    ".option(\"inferSchema\",\"true\") \\\n",
    ".option(\"header\",\"true\") \\\n",
    ".option(\"mode\",\"DROPMALFORMED\") \\\n",
    ".option(\"delimiter\", \";\") \\\n",
    ".load(books_rating_path)"
   ]
  },
  {
   "cell_type": "code",
   "execution_count": 4,
   "metadata": {},
   "outputs": [
    {
     "name": "stdout",
     "output_type": "stream",
     "text": [
      "root\n",
      " |-- ISBN: string (nullable = true)\n",
      " |-- Book-Title: string (nullable = true)\n",
      " |-- Book-Author: string (nullable = true)\n",
      " |-- Year-Of-Publication: integer (nullable = true)\n",
      " |-- Publisher: string (nullable = true)\n",
      " |-- Image-URL-S: string (nullable = true)\n",
      " |-- Image-URL-M: string (nullable = true)\n",
      " |-- Image-URL-L: string (nullable = true)\n",
      "\n"
     ]
    }
   ],
   "source": [
    "books.printSchema()"
   ]
  },
  {
   "cell_type": "code",
   "execution_count": 5,
   "metadata": {},
   "outputs": [
    {
     "name": "stdout",
     "output_type": "stream",
     "text": [
      "root\n",
      " |-- User-ID: string (nullable = true)\n",
      " |-- Location: string (nullable = true)\n",
      " |-- Age: string (nullable = true)\n",
      "\n"
     ]
    }
   ],
   "source": [
    "users.printSchema()"
   ]
  },
  {
   "cell_type": "code",
   "execution_count": 6,
   "metadata": {},
   "outputs": [
    {
     "name": "stdout",
     "output_type": "stream",
     "text": [
      "root\n",
      " |-- User-ID: integer (nullable = true)\n",
      " |-- ISBN: string (nullable = true)\n",
      " |-- Book-Rating: integer (nullable = true)\n",
      "\n"
     ]
    }
   ],
   "source": [
    "ratings.printSchema()"
   ]
  },
  {
   "cell_type": "code",
   "execution_count": 7,
   "metadata": {},
   "outputs": [],
   "source": [
    "books = books.withColumnRenamed(\"ISBN\",\"isbn\") \\\n",
    "     .withColumnRenamed(\"Book-Title\",\"book_title\") \\\n",
    "     .withColumnRenamed('Book-Author','book_author') \\"
   ]
  },
  {
   "cell_type": "code",
   "execution_count": 8,
   "metadata": {},
   "outputs": [],
   "source": [
    "users = users.withColumnRenamed('User-ID','user_id')\\\n",
    "             .withColumnRenamed('Location','location')\\\n",
    "             .withColumnRenamed('Age','age')"
   ]
  },
  {
   "cell_type": "code",
   "execution_count": 9,
   "metadata": {},
   "outputs": [],
   "source": [
    "ratings = ratings.withColumnRenamed('User-ID','user_id')\\\n",
    "                 .withColumnRenamed('ISBN','isbn')\\\n",
    "                 .withColumnRenamed('Book-Rating','book_rating')"
   ]
  },
  {
   "cell_type": "code",
   "execution_count": 10,
   "metadata": {},
   "outputs": [
    {
     "name": "stdout",
     "output_type": "stream",
     "text": [
      "root\n",
      " |-- user_id: integer (nullable = true)\n",
      " |-- isbn: string (nullable = true)\n",
      " |-- book_rating: integer (nullable = true)\n",
      "\n"
     ]
    }
   ],
   "source": [
    "ratings.printSchema()"
   ]
  },
  {
   "cell_type": "code",
   "execution_count": 11,
   "metadata": {},
   "outputs": [
    {
     "name": "stdout",
     "output_type": "stream",
     "text": [
      "root\n",
      " |-- user_id: string (nullable = true)\n",
      " |-- location: string (nullable = true)\n",
      " |-- age: string (nullable = true)\n",
      "\n"
     ]
    }
   ],
   "source": [
    "users.printSchema()"
   ]
  },
  {
   "cell_type": "code",
   "execution_count": 12,
   "metadata": {},
   "outputs": [
    {
     "name": "stdout",
     "output_type": "stream",
     "text": [
      "root\n",
      " |-- isbn: string (nullable = true)\n",
      " |-- book_title: string (nullable = true)\n",
      " |-- book_author: string (nullable = true)\n",
      " |-- Year-Of-Publication: integer (nullable = true)\n",
      " |-- Publisher: string (nullable = true)\n",
      " |-- Image-URL-S: string (nullable = true)\n",
      " |-- Image-URL-M: string (nullable = true)\n",
      " |-- Image-URL-L: string (nullable = true)\n",
      "\n"
     ]
    }
   ],
   "source": [
    "books.printSchema()"
   ]
  },
  {
   "cell_type": "code",
   "execution_count": 13,
   "metadata": {},
   "outputs": [
    {
     "data": {
      "text/plain": [
       "<matplotlib.axes._subplots.AxesSubplot at 0x7f6b447e7dd0>"
      ]
     },
     "execution_count": 13,
     "metadata": {},
     "output_type": "execute_result"
    },
    {
     "data": {
      "image/png": "[encoded data removed]",
      "text/plain": [
       "<Figure size 432x288 with 1 Axes>"
      ]
     },
     "metadata": {
      "needs_background": "light"
     },
     "output_type": "display_data"
    }
   ],
   "source": [
    "## lets visualize some key parameters \n",
    "import pyspark.sql.functions as F\n",
    "import seaborn as sns \n",
    "temp_df = (ratings.groupBy('book_rating') \n",
    "                 .count()\n",
    "                 .select('book_rating',F.col('count').cast('int'))\n",
    "                 .toPandas()\n",
    "                 .sort_values(by = 'count'))\n",
    "sns.barplot(x = 'book_rating', y = 'count', data = temp_df)"
   ]
  },
  {
   "cell_type": "markdown",
   "metadata": {},
   "source": [
    "### we can observe that most of the ratings are highly skewed with most of the ratings as null values which we want to predict"
   ]
  },
  {
   "cell_type": "code",
   "execution_count": 14,
   "metadata": {},
   "outputs": [
    {
     "data": {
      "image/png": "[encoded data removed]",
      "text/plain": [
       "<Figure size 432x288 with 1 Axes>"
      ]
     },
     "metadata": {
      "needs_background": "light"
     },
     "output_type": "display_data"
    }
   ],
   "source": [
    "## now since we are going to recommend through age and location of the user makes sense to visualize it \n",
    "\n",
    "temp_df = (users.groupBy('age') \n",
    "                 .count()\n",
    "                 .select('age',F.col('count').cast('int'))\n",
    "                 .toPandas()\n",
    "                 .sort_values(by = 'count'))\n",
    "sns.distplot(temp_df['count'])\n",
    "plt.title('age')\n",
    "plt.show()"
   ]
  },
  {
   "cell_type": "markdown",
   "metadata": {},
   "source": [
    "## so age is also extremely skewed as well as location"
   ]
  },
  {
   "cell_type": "code",
   "execution_count": 15,
   "metadata": {},
   "outputs": [
    {
     "data": {
      "image/png": "[encoded data removed]",
      "text/plain": [
       "<Figure size 432x288 with 1 Axes>"
      ]
     },
     "metadata": {
      "needs_background": "light"
     },
     "output_type": "display_data"
    }
   ],
   "source": [
    "temp_df = (users.groupBy('location') \n",
    "                 .count()\n",
    "                 .select('location',F.col('count').cast('int'))\n",
    "                 .toPandas()\n",
    "                 .sort_values(by = 'count'))\n",
    "sns.distplot(temp_df['count'])\n",
    "plt.title('Location')\n",
    "plt.show()"
   ]
  },
  {
   "cell_type": "code",
   "execution_count": 16,
   "metadata": {},
   "outputs": [],
   "source": [
    "## now we need to combine the tables in such a way that we have userID,ISBN of Book,Title of the book how many ratings are given \n",
    "## for these books all in one big table "
   ]
  },
  {
   "cell_type": "code",
   "execution_count": 17,
   "metadata": {},
   "outputs": [],
   "source": [
    "## lets use SQL to do this"
   ]
  },
  {
   "cell_type": "code",
   "execution_count": 18,
   "metadata": {},
   "outputs": [],
   "source": [
    "ratings.createOrReplaceTempView('ratings')\n",
    "books.createOrReplaceTempView('books')"
   ]
  },
  {
   "cell_type": "code",
   "execution_count": 19,
   "metadata": {},
   "outputs": [],
   "source": [
    "combined_dataframe = spark.sql(\"\"\"\n",
    "             SELECT user_id,r.isbn,book_rating,book_title\n",
    "             FROM ratings r INNER JOIN books b \n",
    "             ON r.isbn = b.isbn \n",
    "             \"\"\")"
   ]
  },
  {
   "cell_type": "code",
   "execution_count": 20,
   "metadata": {},
   "outputs": [],
   "source": [
    "combined_dataframe.createOrReplaceTempView('combined_dataframe')\n",
    "\n",
    "# we only take those books which have their total rating greater than 50\n",
    "combined_and_filtered = spark.sql(\"\"\"SELECT isbn,\n",
    "                                            user_id,\n",
    "                                            book_rating,\n",
    "                                            book_title,\n",
    "                                            sum(book_rating) OVER (PARTITION BY isbn) as total_book_rating, \n",
    "                                            count(user_id) OVER (PARTITION BY user_id) as user_ratings_total\n",
    "                                    FROM combined_dataframe\n",
    "                    \n",
    "                    \"\"\").filter((F.col(\"total_book_rating\") > 50) & (F.col('user_ratings_total') > 15))"
   ]
  },
  {
   "cell_type": "code",
   "execution_count": 21,
   "metadata": {},
   "outputs": [],
   "source": [
    "\n",
    "location_filtered = users.filter(F.col(\"location\").rlike(r\"india|usa|china\"))"
   ]
  },
  {
   "cell_type": "code",
   "execution_count": 22,
   "metadata": {},
   "outputs": [
    {
     "name": "stdout",
     "output_type": "stream",
     "text": [
      "root\n",
      " |-- isbn: string (nullable = true)\n",
      " |-- user_id: integer (nullable = true)\n",
      " |-- book_rating: integer (nullable = true)\n",
      " |-- book_title: string (nullable = true)\n",
      " |-- total_book_rating: long (nullable = true)\n",
      " |-- user_ratings_total: long (nullable = false)\n",
      "\n"
     ]
    }
   ],
   "source": [
    "combined_and_filtered.printSchema()"
   ]
  },
  {
   "cell_type": "code",
   "execution_count": 23,
   "metadata": {},
   "outputs": [],
   "source": [
    "filtered_with_location = location_filtered.join(combined_and_filtered, on = 'user_id', how = 'inner')\\\n",
    "                                           .select('user_id','isbn','book_rating','book_title')\\\n",
    "                                           .withColumn('user_id',F.col('user_id').cast('int'))"
   ]
  },
  {
   "cell_type": "code",
   "execution_count": 24,
   "metadata": {},
   "outputs": [
    {
     "name": "stdout",
     "output_type": "stream",
     "text": [
      "root\n",
      " |-- user_id: integer (nullable = true)\n",
      " |-- isbn: string (nullable = true)\n",
      " |-- book_rating: integer (nullable = true)\n",
      " |-- book_title: string (nullable = true)\n",
      "\n"
     ]
    }
   ],
   "source": [
    "filtered_with_location.printSchema()"
   ]
  },
  {
   "cell_type": "code",
   "execution_count": 25,
   "metadata": {},
   "outputs": [
    {
     "name": "stdout",
     "output_type": "stream",
     "text": [
      "root\n",
      " |-- user_id: integer (nullable = true)\n",
      " |-- book_rating: integer (nullable = true)\n",
      " |-- book_title: string (nullable = true)\n",
      " |-- isbn_indexed: integer (nullable = true)\n",
      "\n"
     ]
    },
    {
     "data": {
      "text/plain": [
       "(205553, 25488)"
      ]
     },
     "execution_count": 25,
     "metadata": {},
     "output_type": "execute_result"
    }
   ],
   "source": [
    "from pyspark.ml.recommendation import ALS \n",
    "from pyspark.ml.evaluation import RegressionEvaluator \n",
    "from pyspark.ml.feature import StringIndexer \n",
    "\n",
    "indexer = StringIndexer(inputCol = \"isbn\", outputCol = \"isbn_indexed\") \n",
    "\n",
    "indexed = indexer.fit(filtered_with_location).transform(filtered_with_location)\\\n",
    "                 .withColumn('isbn_indexed',F.col('isbn_indexed')\\\n",
    "                 .cast(\"int\"))\\\n",
    "                 .drop('isbn')\n",
    "\n",
    "indexed.printSchema()\n",
    "\n",
    "\n",
    "training, test = indexed.randomSplit([0.8,0.1],)\n",
    "training.count(),test.count()"
   ]
  },
  {
   "cell_type": "code",
   "execution_count": 26,
   "metadata": {},
   "outputs": [],
   "source": [
    "indexed.toPandas().to_json('recommnder.json')"
   ]
  },
  {
   "cell_type": "code",
   "execution_count": 27,
   "metadata": {},
   "outputs": [
    {
     "data": {
      "text/plain": [
       "DataFrame[user_id: int, book_rating: int, book_title: string, isbn_indexed: int]"
      ]
     },
     "execution_count": 27,
     "metadata": {},
     "output_type": "execute_result"
    }
   ],
   "source": [
    "indexed.sel"
   ]
  },
  {
   "cell_type": "code",
   "execution_count": null,
   "metadata": {},
   "outputs": [],
   "source": []
  },
  {
   "cell_type": "code",
   "execution_count": 27,
   "metadata": {},
   "outputs": [],
   "source": [
    "als = ALS(maxIter = 10 , \n",
    "          regParam = 0.9, \n",
    "          userCol = \"user_id\", \n",
    "          itemCol = \"isbn_indexed\", \n",
    "          ratingCol = \"book_rating\",\n",
    "          nonnegative = True, \n",
    "          coldStartStrategy = 'drop')\n",
    "model = als.fit(training)"
   ]
  },
  {
   "cell_type": "code",
   "execution_count": 28,
   "metadata": {},
   "outputs": [
    {
     "name": "stdout",
     "output_type": "stream",
     "text": [
      "Root mean squared error:   3.5479597747510034\n"
     ]
    }
   ],
   "source": [
    "from pyspark.ml.evaluation import RegressionEvaluator \n",
    "\n",
    "\n",
    "predictions = model.transform(test)\n",
    "evaluator = RegressionEvaluator(metricName = 'rmse', labelCol = 'book_rating', predictionCol = \"prediction\")\n",
    "rmse = evaluator.evaluate(predictions)\n",
    "print(\"Root mean squared error:  \",rmse)"
   ]
  },
  {
   "cell_type": "code",
   "execution_count": 29,
   "metadata": {},
   "outputs": [
    {
     "data": {
      "text/plain": [
       "ALS_27c6ee3468d4"
      ]
     },
     "execution_count": 29,
     "metadata": {},
     "output_type": "execute_result"
    }
   ],
   "source": [
    "# so the rmse is the worst we will get so this tells us that our predictions have a variation of 6 i.e the ratings are off by 6\n",
    "\n",
    "model"
   ]
  },
  {
   "cell_type": "code",
   "execution_count": 37,
   "metadata": {},
   "outputs": [
    {
     "name": "stdout",
     "output_type": "stream",
     "text": [
      "+-------+-----------+--------------------+------------+\n",
      "|user_id|book_rating|          book_title|isbn_indexed|\n",
      "+-------+-----------+--------------------+------------+\n",
      "|  18979|          0|      Midnight Bayou|         430|\n",
      "|  18979|          8|    Summer Pleasures|         420|\n",
      "|  22521|          0|Dune Messiah (Dun...|        1284|\n",
      "|  22521|         10|      Fahrenheit 451|          62|\n",
      "|  23571|          0|All I Really Need...|          83|\n",
      "|  23571|          0|Ghost Soldiers: T...|        4313|\n",
      "|  23571|          0|It Was on Fire Wh...|         640|\n",
      "|  23571|          0|   The Da Vinci Code|           2|\n",
      "|  23571|          0|         Wild Animus|           0|\n",
      "|  23571|          5|The Tenth Insight...|        1692|\n",
      "+-------+-----------+--------------------+------------+\n",
      "\n"
     ]
    }
   ],
   "source": [
    "test.select('*').limit(10)"
   ]
  },
  {
   "cell_type": "code",
   "execution_count": 44,
   "metadata": {},
   "outputs": [],
   "source": [
    "df = test.select(['user_id','book_rating','book_title','isbn_indexed'])"
   ]
  },
  {
   "cell_type": "code",
   "execution_count": 51,
   "metadata": {},
   "outputs": [],
   "source": [
    "df.write.json(\"pyspark/testing_data_to_stream3.json\")"
   ]
  },
  {
   "cell_type": "code",
   "execution_count": null,
   "metadata": {},
   "outputs": [],
   "source": []
  },
  {
   "cell_type": "code",
   "execution_count": null,
   "metadata": {},
   "outputs": [],
   "source": []
  },
  {
   "cell_type": "code",
   "execution_count": null,
   "metadata": {},
   "outputs": [],
   "source": []
  },
  {
   "cell_type": "code",
   "execution_count": null,
   "metadata": {},
   "outputs": [],
   "source": []
  },
  {
   "cell_type": "code",
   "execution_count": null,
   "metadata": {},
   "outputs": [],
   "source": []
  },
  {
   "cell_type": "code",
   "execution_count": null,
   "metadata": {},
   "outputs": [],
   "source": []
  },
  {
   "cell_type": "code",
   "execution_count": 118,
   "metadata": {},
   "outputs": [],
   "source": [
    "als = ALS(maxIter = 10 ,\n",
    "          userCol = \"user_id\", \n",
    "          itemCol = \"isbn_indexed\", \n",
    "          ratingCol = \"book_rating\",\n",
    "          nonnegative = True, \n",
    "          coldStartStrategy = 'drop')\n",
    "\n",
    "from pyspark.ml.tuning import ParamGridBuilder,CrossValidator \n",
    "grid = ParamGridBuilder().addGrid(als.rank, [10,30])\\\n",
    "                               .addGrid(als.regParam, [0.2,0.01,1,2])\\\n",
    "                               .build()"
   ]
  },
  {
   "cell_type": "code",
   "execution_count": 119,
   "metadata": {},
   "outputs": [],
   "source": [
    "\n",
    "cv = CrossValidator(estimator = als,estimatorParamMaps = grid, evaluator = evaluator, parallelism = 4, numFolds = 3)"
   ]
  },
  {
   "cell_type": "code",
   "execution_count": 120,
   "metadata": {},
   "outputs": [],
   "source": [
    "model = cv.fit(training)\n",
    "best_model = model.bestModel"
   ]
  },
  {
   "cell_type": "code",
   "execution_count": 122,
   "metadata": {},
   "outputs": [
    {
     "name": "stdout",
     "output_type": "stream",
     "text": [
      "Root mean squared error:   3.5508231305680344\n"
     ]
    }
   ],
   "source": [
    "predictions = best_model.transform(test) \n",
    "rmse = evaluator.evaluate(predictions)\n",
    "print(\"Root mean squared error:  \",rmse)"
   ]
  },
  {
   "cell_type": "code",
   "execution_count": 126,
   "metadata": {},
   "outputs": [
    {
     "data": {
      "text/plain": [
       "30"
      ]
     },
     "execution_count": 126,
     "metadata": {},
     "output_type": "execute_result"
    }
   ],
   "source": [
    "model.bestModel.rank"
   ]
  },
  {
   "cell_type": "code",
   "execution_count": 132,
   "metadata": {},
   "outputs": [
    {
     "data": {
      "text/plain": [
       "ALS_eefe6f1b05cd"
      ]
     },
     "execution_count": 132,
     "metadata": {},
     "output_type": "execute_result"
    }
   ],
   "source": [
    "best_model"
   ]
  },
  {
   "cell_type": "code",
   "execution_count": 135,
   "metadata": {},
   "outputs": [
    {
     "name": "stdout",
     "output_type": "stream",
     "text": [
      "+-------+-----------+----------+------------+\n",
      "|user_id|book_rating|book_title|isbn_indexed|\n",
      "+-------+-----------+----------+------------+\n",
      "+-------+-----------+----------+------------+\n",
      "\n"
     ]
    }
   ],
   "source": [
    "test.filter(test['user_id'] == 11).show()"
   ]
  },
  {
   "cell_type": "code",
   "execution_count": 136,
   "metadata": {},
   "outputs": [
    {
     "name": "stdout",
     "output_type": "stream",
     "text": [
      "+-------+-----------+--------------------+------------+\n",
      "|user_id|book_rating|          book_title|isbn_indexed|\n",
      "+-------+-----------+--------------------+------------+\n",
      "|  18979|          0|The Macgregors: A...|        1709|\n",
      "|  18979|          5|Hunting Badger (J...|        2417|\n",
      "|  22521|          0|   A Wrinkle in Time|         332|\n",
      "|  22521|          8|The Devil Wears P...|        2430|\n",
      "|  23571|          0|Ghost Soldiers: T...|        4313|\n",
      "|  23571|          0|Harry Potter and ...|         258|\n",
      "|  23571|          0|The Best Democrac...|        4704|\n",
      "|  23571|          7|            Catch 22|        1054|\n",
      "|  23571|          8|         On the Road|        1057|\n",
      "|  23571|          9|Bushwhacked : Lif...|        6299|\n",
      "|  23571|         10|The Lion, the Wit...|        1139|\n",
      "|  23571|         10|The Voyage of the...|        4480|\n",
      "|  62680|          0|The Killing Game:...|         572|\n",
      "|  67782|         10|A Shocker on Shoc...|        4601|\n",
      "|  67782|         10|The Beast from th...|        3015|\n",
      "|  67782|         10|The Horror at Cam...|        4334|\n",
      "|  75149|          0|Blood Meridian, O...|        5105|\n",
      "|  75149|          0|               Naked|         644|\n",
      "|  75149|          0|Speaking With the...|        2511|\n",
      "|  75149|          0|The Grapes of Wra...|        2972|\n",
      "+-------+-----------+--------------------+------------+\n",
      "only showing top 20 rows\n",
      "\n"
     ]
    }
   ],
   "source": [
    "test.show()"
   ]
  },
  {
   "cell_type": "code",
   "execution_count": 138,
   "metadata": {},
   "outputs": [
    {
     "name": "stdout",
     "output_type": "stream",
     "text": [
      "+-------+-----------+--------------------+------------+\n",
      "|user_id|book_rating|          book_title|isbn_indexed|\n",
      "+-------+-----------+--------------------+------------+\n",
      "|  18979|          0|         Divine Evil|        1651|\n",
      "|  18979|          0|Irish Rebel (Spec...|         697|\n",
      "|  18979|          0|      Midnight Bayou|         430|\n",
      "|  18979|          0|         Mortal Prey|         639|\n",
      "|  18979|          0|She's Come Undone...|          42|\n",
      "|  18979|          4|     Purity in Death|         526|\n",
      "|  18979|          5|       Brazen Virtue|        1013|\n",
      "|  18979|          5|       Carolina Moon|         189|\n",
      "|  18979|          5|Waiting For Nick ...|        3619|\n",
      "|  18979|          6|Sullivan's Woman ...|        1613|\n",
      "|  18979|          7|      Lost and Found|        1975|\n",
      "|  18979|          7|Night Shield (Int...|        1461|\n",
      "|  18979|          7|         Sacred Sins|         813|\n",
      "|  18979|          7|    Smoke in Mirrors|        2700|\n",
      "|  18979|          7|          The Search|         381|\n",
      "|  18979|          8|    Summer Pleasures|         420|\n",
      "|  22521|          0|Children of Dune ...|        1740|\n",
      "|  22521|          0|Dune (Remembering...|         485|\n",
      "|  22521|          0|Dune Messiah (Dun...|        1284|\n",
      "|  22521|          0|Emma (Signet Clas...|        3411|\n",
      "+-------+-----------+--------------------+------------+\n",
      "only showing top 20 rows\n",
      "\n"
     ]
    }
   ],
   "source": [
    "training.show()"
   ]
  },
  {
   "cell_type": "code",
   "execution_count": null,
   "metadata": {},
   "outputs": [],
   "source": []
  }
 ],
 "metadata": {
  "kernelspec": {
   "display_name": "Python 3",
   "language": "python",
   "name": "python3"
  },
  "language_info": {
   "codemirror_mode": {
    "name": "ipython",
    "version": 3
   },
   "file_extension": ".py",
   "mimetype": "text/x-python",
   "name": "python",
   "nbconvert_exporter": "python",
   "pygments_lexer": "ipython3",
   "version": "3.7.6"
  }
 },
 "nbformat": 4,
 "nbformat_minor": 4
}
